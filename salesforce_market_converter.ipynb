{
 "cells": [
  {
   "cell_type": "markdown",
   "metadata": {},
   "source": [
    "- Add project names to SQL query\n",
    "- Add user's first post date to SQL query\n",
    "- Add \"Product\" to SQL query\n",
    "- Change field names\n",
    "    - Yellow: Add\n",
    "    - Green: Change in code\n",
    "    - Red: Leave alone\n",
    "<!-- - Trim last three characters from adwire_opportunity_id -->\n",
    "- Fix revenue_market_area values\n",
    "- Remove pre-Feb 2nd (no rev info) rows)\n",
    "- {}"
   ]
  },
  {
   "cell_type": "code",
   "execution_count": 1,
   "metadata": {},
   "outputs": [],
   "source": [
    "import pandas as pd\n",
    "import numpy as np\n",
    "import re\n",
    "pd.set_option('display.max_columns', None)\n",
    "pd.set_option('display.max_rows', None)"
   ]
  },
  {
   "cell_type": "code",
   "execution_count": 2,
   "metadata": {},
   "outputs": [],
   "source": [
    "df = pd.DataFrame(pd.read_csv('March iHeart Everyone HR Pull.xlsx - Sheet1.csv'))\n",
    "accounts = pd.DataFrame(pd.read_csv('fullmerge - account_names.csv'))\n",
    "empl_roll = pd.DataFrame(pd.read_csv('CR Indexed Worker Roster - Sales 2021-01-04 19_16 CST.xlsx - Sheet1.csv'))\n",
    "user_df = pd.DataFrame(pd.read_csv('ihm_users.csv'))\n",
    "market_owners = pd.DataFrame(pd.read_csv('ihm_account_management.csv'))\n",
    "workday = pd.DataFrame(pd.read_csv('usersChanges_2021_02_15_11_54.csv'))\n",
    "revenue = pd.DataFrame(pd.read_csv('sf_duplicates.csv'))\n",
    "projects = pd.DataFrame(pd.read_csv('iheart_projects.csv'))\n",
    "newhr = pd.DataFrame(pd.read_csv('March iHeart Everyone HR Pull.xlsx - Sheet1.csv'))"
   ]
  },
  {
   "cell_type": "code",
   "execution_count": 3,
   "metadata": {},
   "outputs": [
    {
     "data": {
      "text/plain": [
       "Index(['project_id', 'create_ts', 'email', 'title', 'name', 'name.1', 'group',\n",
       "       'submissions', 'opportynity_id', 'credits_used', 'industry', 'tone',\n",
       "       'Unnamed: 12', 'Unnamed: 13', 'Unnamed: 14', 'Unnamed: 15',\n",
       "       'Unnamed: 16'],\n",
       "      dtype='object')"
      ]
     },
     "execution_count": 3,
     "metadata": {},
     "output_type": "execute_result"
    }
   ],
   "source": [
    "projects.columns"
   ]
  },
  {
   "cell_type": "code",
   "execution_count": 4,
   "metadata": {},
   "outputs": [],
   "source": [
    "empl_roll.rename(columns = {'Worker': 'hr_worker', 'Job Title': 'hr_job_title', 'Business Title': 'hr_business_title',\n",
    "                                       'Hire Date': 'hr_hire_date', 'Phone - Primary Work': 'hr_work_phone',\n",
    "                                       'Mobile Phones': 'hr_mobile_phone', \"Worker's Manager\": 'hr_worker_manager',\n",
    "                                        \"Worker's Manager Business Title\": \"hr_worker_manager_business_title\",\n",
    "                                       \"Worker's Manager's Manager\": \"hr_worker_manager_manager\",\n",
    "                                       \"Worker's Manager's Manager Business Title\": \"hr_worker_manager_manager_business_title\",\n",
    "                                       'Market': 'hr_market', 'Market President': 'hr_market_president', 'Region/Area': 'hr_region_area',\n",
    "                                       'Area/Region/Community President': 'hr_area_region_community_president', 'Division': 'hr_division',\n",
    "                                       'Division President': 'hr_division_president'}, inplace=True)\n",
    "\n",
    "user_df.rename(columns = {'client': 'adwire_client', 'group_x': 'adwire_group', 'name_x': 'adwire_name_x',\n",
    "                                       'email': 'adwire_email', 'projects': 'adwire_projects', 'spend': 'adwire_spend',\n",
    "                                       'project_ts': 'adwire_first_posting', 'group_cap': 'adwire_cap', 'owner': 'account_owner',\n",
    "                                        'group_upper': 'adwire_group_upper'}, inplace=True)\n",
    "\n",
    "workday.rename(columns = {'first name_x': 'workday_first_name', \n",
    "                                       'action': 'workday_action', 'client code': 'workday_client_code', 'first name_y': 'workday_first_name2',\n",
    "                                       'last name': 'workday_last_name', 'group_y': 'workday_group_y'}, inplace=True)\n",
    "\n",
    "revenue.rename(columns = {'Opportunity: Opportunity ID': 'revenue_opportunity_id', 'stage': 'revenue_stage',\n",
    "                                        'market_division': 'revenue_market_division', 'market_area': 'revenue_market_area', 'market': 'revenue_market',\n",
    "                                       'ae_name': 'revenue_ae_name', 'new_business': 'revenue_new_business', 'account': 'revenue_account',\n",
    "                                       'opportunity': 'revenue_opportunity', 'project_id': 'project_id', 'form_date': 'revenue_form_date',\n",
    "                                       'opportunity_created_date': 'revenue_opportunity_created_date', 'opportunity_closed_date': 'revenue_opportunity_closed_date',\n",
    "                                       'gross_expected_revenue': 'revenue_gross_expected_revenue', 'gross_amount': 'revenue_gross_amount',\n",
    "                                        'form_created_on_closed_opp': 'revenue_form_created_on_closed_opp',\n",
    "                                       'market_type': 'revenue_market_type'}, inplace=True)\n",
    "\n",
    "projects.rename(columns = {'create_ts': 'adwire_post_date', 'name_y': 'adwire_name_y', 'group': 'adwire_group2',\n",
    "                                        'submissions': 'adwire_submissions', 'opportynity_id': 'adwire_opportunity_id',\n",
    "                                       'credits_used': 'adwire_credits_used', 'industry': 'adwire_industry', 'tone': 'adwire_tone'}, inplace=True)"
   ]
  },
  {
   "cell_type": "code",
   "execution_count": 5,
   "metadata": {},
   "outputs": [],
   "source": [
    "newhr['User - Division'] = ['iHeart Media - ' + x.replace(' - Market', '') for x in newhr['User - Division']]\n",
    "\n",
    "empl_roll.hr_market = ['iHeart Media - ' + x.replace(' - Market', '') for x in empl_roll.hr_market]\n",
    "\n",
    "user_df.group = ['iHeart Media - ' + x.replace(' - Market', '') for x in user_df.group]\n",
    "\n",
    "workday.group = ['iHeart Media - ' + str(x) for x in workday.group]\n",
    "\n",
    "projects.adwire_group2 = ['iHeart Media - ' + str(x) for x in projects.adwire_group2]\n",
    "\n",
    "projects.adwire_group2 = projects.adwire_group2.str.strip()"
   ]
  },
  {
   "cell_type": "code",
   "execution_count": 6,
   "metadata": {},
   "outputs": [],
   "source": [
    "projects.loc[(projects.adwire_group2 == 'iHeart Media - St. Petersburg, FL | Inside Sales'), 'adwire_group2'] = 'iHeart Media - Inside Sales'\n",
    "projects.loc[(projects.adwire_group2 == 'iHeart Media - Modesto / Stockton, CA'), 'adwire_group2'] = 'iHeart Media - Modesto/Stockton, CA'\n",
    "projects.loc[(projects.adwire_group2 == 'iHeart Media - Roanoke / Lynchburg, VA'), 'adwire_group2'] = 'iHeart Media - Roanoke/Lynchburg, VA'\n",
    "projects.loc[(projects.adwire_group2 == 'iHeart Media - Lexington / Somerset, KY'), 'adwire_group2'] = 'iHeart Media - Lexington/Somerset, KY'"
   ]
  },
  {
   "cell_type": "code",
   "execution_count": 7,
   "metadata": {},
   "outputs": [],
   "source": [
    "revenue.revenue_market = revenue.revenue_market.astype(str)\n",
    "\n",
    "c = [x[:-2] for x in revenue.revenue_market]\n",
    "d = [x[-2:] for x in revenue.revenue_market]\n",
    "\n",
    "f = ['iHeart Media - '+ i + ', ' + j for i, j in zip(c, d)]\n",
    "\n",
    "df5 = revenue\n",
    "\n",
    "df5['revenue_account'] = pd.Series(f)\n",
    "\n",
    "df5.loc[(df5['revenue_account'] == 'iHeart Media - Inside Sal, es'),'revenue_account'] = 'iHeart Media - Inside Sales'\n",
    "df5.loc[(df5['revenue_account'] == 'iHeart Media - WestPalmBeach, FL'), 'revenue_account'] = 'iHeart Media - West Palm Beach, FL'\n",
    "df5.loc[(df5['revenue_account'] == 'iHeart Media - CorpusChristi, TX'), 'revenue_account'] = 'iHeart Media - Corpus Christi, TX'\n",
    "df5.loc[(df5['revenue_account'] == 'iHeart Media - SanAntonio, TX'), 'revenue_account'] = 'iHeart Media - San Antonio, TX'\n",
    "df5.loc[(df5['revenue_account'] == 'iHeart Media - ElPaso, TX'), 'revenue_account'] = 'iHeart Media - El Paso, TX'\n",
    "df5.loc[(df5['revenue_account'] == 'iHeart Media - NewHaven, CT'), 'revenue_account'] = 'iHeart Media - New Haven, CT'\n",
    "df5.loc[(df5['revenue_account'] == 'iHeart Media - FortMyers, FL'), 'revenue_account'] = 'iHeart Media - Fort Myers/Naples, FL'\n",
    "df5.loc[(df5['revenue_account'] == 'iHeart Media - SiouxCity, IA'), 'revenue_account'] = 'iHeart Media - Sioux City, IA'\n",
    "df5.loc[(df5['revenue_account'] == 'iHeart Media - SaltLakeCity, UT'), 'revenue_account'] = 'iHeart Media - Salt Lake City, UT'\n",
    "df5.loc[(df5['revenue_account'] == 'iHeart Media - MyrtleBeach, SC'), 'revenue_account'] = 'iHeart Media - Myrtle Beach, SC'\n",
    "df5.loc[(df5['revenue_account'] == 'iHeart Media - FortCollins, CO'), 'revenue_account'] = 'iHeart Media - Fort Collins, CO'\n",
    "df5.loc[(df5['revenue_account'] == 'iHeart Media - LosAngeles, CA'), 'revenue_account'] = 'iHeart Media - Los Angeles, CA'\n",
    "df5.loc[(df5['revenue_account'] == 'iHeart Media - ColoradoSprings, CO'), 'revenue_account'] = 'iHeart Media - Colorado Springs, CO'\n",
    "df5.loc[(df5['revenue_account'] == 'iHeart Media - NewOrleans, LA'), 'revenue_account'] = 'iHeart Media - New Orleans, LA'\n",
    "df5.loc[(df5['revenue_account'] == 'iHeart Media - BatonRouge, LA'), 'revenue_account'] = 'iHeart Media - Baton Rouge, LA'\n",
    "df5.loc[(df5['revenue_account'] == 'iHeart Media - GrandForks, ND'), 'revenue_account'] = 'iHeart Media - El Paso, TX'\n",
    "df5.loc[(df5['revenue_account'] == 'iHeart Media - LasVegas, NV'), 'revenue_account'] = 'iHeart Media - Las Vegas, NV'\n",
    "df5.loc[(df5['revenue_account'] == 'iHeart Media - CedarRapids, IA'), 'revenue_account'] = 'iHeart Media - Cedar Rapids/Iowa City, IA'\n",
    "df5.loc[(df5['revenue_account'] == 'iHeart Media - CapeCod, MA'), 'revenue_account'] = 'iHeart Media - Cape Cod, MA'\n",
    "df5.loc[(df5['revenue_account'] == 'iHeart Media - FortSmith, AR'), 'revenue_account'] = 'iHeart Media - Fort Smith, AR'\n",
    "df5.loc[(df5['revenue_account'] == 'iHeart Media - GrandRapids, MI'), 'revenue_account'] = 'iHeart Media - Grand Rapids, MI'\n",
    "df5.loc[(df5['revenue_account'] == 'iHeart Media - DesMoines, IA'), 'revenue_account'] = 'iHeart Media - Des Moines, IA'\n",
    "df5.loc[(df5['revenue_account'] == 'iHeart Media - SaintLouis, MO'), 'revenue_account'] = 'iHeart Media - Saint Louis, MO'\n",
    "df5.loc[(df5['revenue_account'] == 'iHeart Media - BayArea, CA'), 'revenue_account'] = 'iHeart Media - San Francisco, CA'\n",
    "df5.loc[(df5['revenue_account'] == 'iHeart Media - PanamaCity, FL'), 'revenue_account'] = 'iHeart Media - Panama City/Tallahassee, FL'\n",
    "df5.loc[(df5['revenue_account'] == 'iHeart Media - OklahomaCity, OK'), 'revenue_account'] = 'iHeart Media - Oklahoma City, OK'\n",
    "df5.loc[(df5['revenue_account'] == 'iHeart Media - n, an'), 'revenue_account'] = 'iHeart Media - No Market'\n",
    "df5.loc[(df5['revenue_account'] == 'iHeart Media - EauClaire, WI'), 'revenue_account'] = 'iHeart Media - Eau Claire, WI'\n",
    "df5.loc[(df5['revenue_account'] == 'iHeart Media - SanDiego, CA'), 'revenue_account'] = 'iHeart Media - San Diego, CA'\n",
    "df5.loc[(df5['revenue_account'] == 'iHeart Media - LittleRock, AR'), 'revenue_account'] = 'iHeart Media - Little Rock, AR'\n",
    "df5.loc[(df5['revenue_account'] == 'iHeart Media - El Paso, TX'), 'revenue_account'] = 'iHeart Media - El Paso, TX'\n",
    "df5.loc[(df5['revenue_account'] == 'iHeart Media - Roanoke, VA'), 'revenue_account'] = 'iHeart Media - Roanoke/Lynchburg, VA'\n",
    "df5.loc[(df5['revenue_account'] == 'iHeart Media - Sarasota, FL'), 'revenue_account'] = 'iHeart Media - Sarasota/Bradenton, FL'\n",
    "df5.loc[(df5['revenue_account'] == 'iHeart Media - Ashland, OH'),'revenue_account'] = 'iHeart Media - Ashland/Mansfield, OH'\n",
    "df5.loc[(df5['revenue_account'] == 'iHeart Media - NewYork, NY'),'revenue_account'] = 'iHeart Media - New York City, NY'\n",
    "df5.loc[(df5['revenue_account'] == 'iHeart Media - Modesto, CA'),'revenue_account'] = 'iHeart Media - Modesto/Stockton, CA'\n",
    "df5.loc[(df5['revenue_account'] == 'iHeart Media - Hattiesburg, MS'),'revenue_account'] = 'iHeart Media - Laurel, MS'\n",
    "df5.loc[(df5['revenue_account'] == 'iHeart Media - Albany, GA'),'revenue_account'] = 'iHeart Media - Columbus, GA'\n",
    "df5.loc[(df5['revenue_account'] == 'iHeart Media - St Petersburg , FL'),'revenue_account'] = 'iHeart Media - Inside Sales'\n",
    "\n",
    "# df6.fillna('No Data', inplace = True)"
   ]
  },
  {
   "cell_type": "code",
   "execution_count": null,
   "metadata": {},
   "outputs": [],
   "source": [
    "proj"
   ]
  },
  {
   "cell_type": "code",
   "execution_count": 8,
   "metadata": {},
   "outputs": [],
   "source": [
    "accountnames = accounts.Accounts.unique().tolist()\n",
    "\n",
    "hrnames = newhr['User - Division'].unique().tolist()\n",
    "\n",
    "empl_markets = empl_roll.hr_market.unique().tolist()\n",
    "\n",
    "user_df_groups = user_df.group.unique().tolist()\n",
    "\n",
    "workday_groups = workday.group.unique().tolist()\n",
    "\n",
    "revenue_markets = revenue.revenue_account.unique().tolist()\n",
    "\n",
    "projects_groups = projects.adwire_group2.unique().tolist()"
   ]
  },
  {
   "cell_type": "code",
   "execution_count": 9,
   "metadata": {},
   "outputs": [],
   "source": [
    "def Differences(hrnames, accountnames):\n",
    "    li_diff = [i for i in hrnames + accountnames if i not in hrnames or i not in accountnames]\n",
    "    missingfromhr = [i for i in hrnames + accountnames if i not in hrnames]\n",
    "    missingfromaccountnames = [i for i in hrnames + accountnames if i not in accountnames]\n",
    "    return 'combined differences:', li_diff, 'missing from table:', missingfromhr, 'missing from accountnames:', missingfromaccountnames\n",
    "\n",
    "# Differences(hrnames, accountnames)"
   ]
  },
  {
   "cell_type": "code",
   "execution_count": 10,
   "metadata": {},
   "outputs": [],
   "source": [
    "merge = pd.merge(projects, revenue, on='project_id', how='left')"
   ]
  },
  {
   "cell_type": "code",
   "execution_count": 11,
   "metadata": {},
   "outputs": [],
   "source": [
    "revenue.to_csv('sf_duplicates_v2.csv')\n",
    "\n",
    "projects.to_csv('projects_v2.csv')"
   ]
  },
  {
   "cell_type": "code",
   "execution_count": 12,
   "metadata": {},
   "outputs": [],
   "source": [
    "merge.revenue_account = merge.revenue_account.astype(str)\n",
    "merge.revenue_account = np.where(merge.revenue_account == 'nan', merge.adwire_group2, merge.revenue_account)\n",
    "# Possible flag: adwire_group2 may be missattribution; creator's market is not necessarily opp owner's market\n",
    "merge.revenue_account = np.where(merge.revenue_account == 'iHeart Media - No Market', merge.adwire_group2, merge.revenue_account)"
   ]
  },
  {
   "cell_type": "code",
   "execution_count": 35,
   "metadata": {},
   "outputs": [
    {
     "data": {
      "text/plain": [
       "('combined differences:',\n",
       " ['iHeart Media - Sam Hensley',\n",
       "  'iHeart Media - McAllen, TX',\n",
       "  'iHeart Media - bulk custom food orders',\n",
       "  'iHeart Media - IHM Innovation Lab',\n",
       "  'iHeart Media - 9',\n",
       "  'iHeart Media - Corporate Group',\n",
       "  'iHeart Media - 6',\n",
       "  'iHeart Media - AdWire Draft Scripts | 15 AND 30 Seconds',\n",
       "  'iHeart Media - Helen Lazaro',\n",
       "  'iHeart Media - Andrew Gonzalez',\n",
       "  'iHeart Media - AdWire Final Scripts | 60 Seconds',\n",
       "  'iHeart Media - Dave Sonefeld',\n",
       "  'iHeart Media - Libby Hogan',\n",
       "  'iHeart Media - Auto Team',\n",
       "  'iHeart Media - Centralized Digital',\n",
       "  'iHeart Media - Design Hub',\n",
       "  'iHeart Media - Govt Initiatives',\n",
       "  'iHeart Media - Integrated Revenue Strategies',\n",
       "  'iHeart Media - Lexington, KY',\n",
       "  'iHeart Media - Markets Events Team',\n",
       "  'iHeart Media - Mcallen, TX',\n",
       "  'iHeart Media - Revenue Management',\n",
       "  'iHeart Media - Sales Operation',\n",
       "  'iHeart Media - Somerset, KY',\n",
       "  'iHeart Media - Tallahassee, FL'],\n",
       " 'missing from table:',\n",
       " ['iHeart Media - Auto Team',\n",
       "  'iHeart Media - Centralized Digital',\n",
       "  'iHeart Media - Design Hub',\n",
       "  'iHeart Media - Govt Initiatives',\n",
       "  'iHeart Media - Integrated Revenue Strategies',\n",
       "  'iHeart Media - Lexington, KY',\n",
       "  'iHeart Media - Markets Events Team',\n",
       "  'iHeart Media - Mcallen, TX',\n",
       "  'iHeart Media - Revenue Management',\n",
       "  'iHeart Media - Sales Operation',\n",
       "  'iHeart Media - Somerset, KY',\n",
       "  'iHeart Media - Tallahassee, FL'],\n",
       " 'missing from accountnames:',\n",
       " ['iHeart Media - Sam Hensley',\n",
       "  'iHeart Media - McAllen, TX',\n",
       "  'iHeart Media - bulk custom food orders',\n",
       "  'iHeart Media - IHM Innovation Lab',\n",
       "  'iHeart Media - 9',\n",
       "  'iHeart Media - Corporate Group',\n",
       "  'iHeart Media - 6',\n",
       "  'iHeart Media - AdWire Draft Scripts | 15 AND 30 Seconds',\n",
       "  'iHeart Media - Helen Lazaro',\n",
       "  'iHeart Media - Andrew Gonzalez',\n",
       "  'iHeart Media - AdWire Final Scripts | 60 Seconds',\n",
       "  'iHeart Media - Dave Sonefeld',\n",
       "  'iHeart Media - Libby Hogan'])"
      ]
     },
     "execution_count": 35,
     "metadata": {},
     "output_type": "execute_result"
    }
   ],
   "source": [
    "Differences(merge.adwire_group2.unique().tolist(), accountnames)"
   ]
  },
  {
   "cell_type": "code",
   "execution_count": 14,
   "metadata": {},
   "outputs": [],
   "source": [
    "merge.to_csv('revenue_projects_merge.csv')\n",
    "projects.to_csv('projects.csv')\n",
    "revenue.to_csv('revenue.csv')"
   ]
  },
  {
   "cell_type": "code",
   "execution_count": null,
   "metadata": {},
   "outputs": [],
   "source": [
    "merge['Opportunity Record Type'] == '0125G000000uFriQAE'"
   ]
  },
  {
   "cell_type": "code",
   "execution_count": 27,
   "metadata": {},
   "outputs": [],
   "source": [
    "merge.rename(columns = {'opportunity_id': 'iHeart Opportunity ID', 'revenue_stage': 'Stage',\n",
    "                       'revenue_market_division': 'Revenue Market Division', 'revenue_market_area': 'Revenue Market Area',\n",
    "                       'revenue_opportunity': 'Opportunity Name', 'revenue_opportunity_created_date': 'Created Date',\n",
    "                       'revenue_opportunity_close_date': 'Close Date', 'revenue_gross_amount': 'Amount',\n",
    "                       'revenue_form_created_on_closed_opp': 'Created on Closed Opp', 'revenue_market_type': 'Revenue Market Type',\n",
    "                        'project_id': 'AdWire Project ID', 'email': ''\n",
    "                       }, inplace=True)"
   ]
  },
  {
   "cell_type": "code",
   "execution_count": 25,
   "metadata": {},
   "outputs": [
    {
     "data": {
      "text/plain": [
       "Index(['project_id', 'adwire_post_date', 'email', 'title', 'name', 'name.1',\n",
       "       'adwire_group2', 'adwire_submissions', 'adwire_opportunity_id',\n",
       "       'adwire_credits_used', 'adwire_industry', 'adwire_tone', 'Unnamed: 12',\n",
       "       'Unnamed: 16', 'iHeart Opportunity ID', 'Stage',\n",
       "       'Revenue Market Division', 'Revenue Market Area', 'revenue_market',\n",
       "       'revenue_ae_name', 'revenue_new_business', 'revenue_account',\n",
       "       'Opportunity Name', 'revenue_form_date', 'Created Date',\n",
       "       'revenue_opportunity_closed_date', 'revenue_gross_expected_revenue',\n",
       "       'iHeart Gross Revenue', 'Created on Closed Opp', 'Type'],\n",
       "      dtype='object')"
      ]
     },
     "execution_count": 25,
     "metadata": {},
     "output_type": "execute_result"
    }
   ],
   "source": [
    "merge.columns"
   ]
  },
  {
   "cell_type": "code",
   "execution_count": 29,
   "metadata": {},
   "outputs": [
    {
     "data": {
      "text/html": [
       "<div>\n",
       "<style scoped>\n",
       "    .dataframe tbody tr th:only-of-type {\n",
       "        vertical-align: middle;\n",
       "    }\n",
       "\n",
       "    .dataframe tbody tr th {\n",
       "        vertical-align: top;\n",
       "    }\n",
       "\n",
       "    .dataframe thead th {\n",
       "        text-align: right;\n",
       "    }\n",
       "</style>\n",
       "<table border=\"1\" class=\"dataframe\">\n",
       "  <thead>\n",
       "    <tr style=\"text-align: right;\">\n",
       "      <th></th>\n",
       "      <th>project_id</th>\n",
       "      <th>adwire_post_date</th>\n",
       "      <th>email</th>\n",
       "      <th>title</th>\n",
       "      <th>name</th>\n",
       "      <th>name.1</th>\n",
       "      <th>adwire_group2</th>\n",
       "      <th>adwire_submissions</th>\n",
       "      <th>adwire_opportunity_id</th>\n",
       "      <th>adwire_credits_used</th>\n",
       "      <th>adwire_industry</th>\n",
       "      <th>adwire_tone</th>\n",
       "      <th>Unnamed: 12</th>\n",
       "      <th>Unnamed: 16</th>\n",
       "      <th>iHeart Opportunity ID</th>\n",
       "      <th>Stage</th>\n",
       "      <th>Revenue Market Division</th>\n",
       "      <th>Revenue Market Area</th>\n",
       "      <th>revenue_market</th>\n",
       "      <th>revenue_ae_name</th>\n",
       "      <th>revenue_new_business</th>\n",
       "      <th>revenue_account</th>\n",
       "      <th>Opportunity Name</th>\n",
       "      <th>revenue_form_date</th>\n",
       "      <th>Created Date</th>\n",
       "      <th>revenue_opportunity_closed_date</th>\n",
       "      <th>revenue_gross_expected_revenue</th>\n",
       "      <th>iHeart Gross Revenue</th>\n",
       "      <th>Created on Closed Opp</th>\n",
       "      <th>Type</th>\n",
       "    </tr>\n",
       "  </thead>\n",
       "  <tbody>\n",
       "    <tr>\n",
       "      <td>5000</td>\n",
       "      <td>Akys4C9AAAA</td>\n",
       "      <td>2020-04-21 11:07:36</td>\n",
       "      <td>SarahSteckler@iheartmedia.com</td>\n",
       "      <td>Christian Chrysler Dodge Jeep Ram | Christian ...</td>\n",
       "      <td>AdWire Draft Scripts | 30 Seconds</td>\n",
       "      <td>Sarah Steckler</td>\n",
       "      <td>iHeart Media - Grand Forks, ND</td>\n",
       "      <td>6</td>\n",
       "      <td>0060y00001DdWMPAA3</td>\n",
       "      <td>1</td>\n",
       "      <td>Auto/Recreational Vehicles &amp; Service</td>\n",
       "      <td>I don't care as long as it's good</td>\n",
       "      <td>NaN</td>\n",
       "      <td>NaN</td>\n",
       "      <td>0060y00001DdWMP</td>\n",
       "      <td>Closed - Won</td>\n",
       "      <td>Lankford</td>\n",
       "      <td>MidNorth</td>\n",
       "      <td>GrandForksND</td>\n",
       "      <td>Sarah Steckler</td>\n",
       "      <td>Existing Business</td>\n",
       "      <td>iHeart Media - El Paso, TX</td>\n",
       "      <td>Christian-RAM April 2020 Incentive-Steckler, S...</td>\n",
       "      <td>20200421.0</td>\n",
       "      <td>4/21/2020</td>\n",
       "      <td>4/22/2020</td>\n",
       "      <td>555.0</td>\n",
       "      <td>555.0</td>\n",
       "      <td>0.0</td>\n",
       "      <td>Community</td>\n",
       "    </tr>\n",
       "  </tbody>\n",
       "</table>\n",
       "</div>"
      ],
      "text/plain": [
       "       project_id     adwire_post_date                          email  \\\n",
       "5000  Akys4C9AAAA  2020-04-21 11:07:36  SarahSteckler@iheartmedia.com   \n",
       "\n",
       "                                                  title  \\\n",
       "5000  Christian Chrysler Dodge Jeep Ram | Christian ...   \n",
       "\n",
       "                                   name          name.1  \\\n",
       "5000  AdWire Draft Scripts | 30 Seconds  Sarah Steckler   \n",
       "\n",
       "                       adwire_group2 adwire_submissions adwire_opportunity_id  \\\n",
       "5000  iHeart Media - Grand Forks, ND                  6    0060y00001DdWMPAA3   \n",
       "\n",
       "     adwire_credits_used                       adwire_industry  \\\n",
       "5000                   1  Auto/Recreational Vehicles & Service   \n",
       "\n",
       "                            adwire_tone Unnamed: 12 Unnamed: 16  \\\n",
       "5000  I don't care as long as it's good         NaN         NaN   \n",
       "\n",
       "     iHeart Opportunity ID         Stage Revenue Market Division  \\\n",
       "5000       0060y00001DdWMP  Closed - Won                Lankford   \n",
       "\n",
       "     Revenue Market Area revenue_market revenue_ae_name revenue_new_business  \\\n",
       "5000            MidNorth   GrandForksND  Sarah Steckler    Existing Business   \n",
       "\n",
       "                 revenue_account  \\\n",
       "5000  iHeart Media - El Paso, TX   \n",
       "\n",
       "                                       Opportunity Name  revenue_form_date  \\\n",
       "5000  Christian-RAM April 2020 Incentive-Steckler, S...         20200421.0   \n",
       "\n",
       "     Created Date revenue_opportunity_closed_date  \\\n",
       "5000    4/21/2020                       4/22/2020   \n",
       "\n",
       "      revenue_gross_expected_revenue  iHeart Gross Revenue  \\\n",
       "5000                           555.0                 555.0   \n",
       "\n",
       "      Created on Closed Opp       Type  \n",
       "5000                    0.0  Community  "
      ]
     },
     "execution_count": 29,
     "metadata": {},
     "output_type": "execute_result"
    }
   ],
   "source": [
    "merge[5000:5001]"
   ]
  },
  {
   "cell_type": "code",
   "execution_count": null,
   "metadata": {},
   "outputs": [],
   "source": [
    "merge.drop(['Unnamed: 12', 'Unnamed: 13', 'Unnamed: 14', 'Unnamed: 15', 'Unnamed: 16', 'adwire_post_date',], axis=1, inplace=True)"
   ]
  },
  {
   "cell_type": "code",
   "execution_count": 33,
   "metadata": {},
   "outputs": [
    {
     "data": {
      "text/plain": [
       "Index(['project_id', 'adwire_post_date', 'email', 'title', 'name', 'name.1',\n",
       "       'adwire_group2', 'adwire_submissions', 'adwire_opportunity_id',\n",
       "       'adwire_credits_used', 'adwire_industry', 'adwire_tone', 'Unnamed: 12',\n",
       "       'Unnamed: 16', 'iHeart Opportunity ID', 'Stage',\n",
       "       'Revenue Market Division', 'Revenue Market Area', 'revenue_market',\n",
       "       'revenue_ae_name', 'revenue_new_business', 'revenue_account',\n",
       "       'Opportunity Name', 'revenue_form_date', 'Created Date',\n",
       "       'revenue_opportunity_closed_date', 'revenue_gross_expected_revenue',\n",
       "       'iHeart Gross Revenue', 'Created on Closed Opp', 'Type'],\n",
       "      dtype='object')"
      ]
     },
     "execution_count": 33,
     "metadata": {},
     "output_type": "execute_result"
    }
   ],
   "source": [
    "merge.columns"
   ]
  },
  {
   "cell_type": "code",
   "execution_count": null,
   "metadata": {},
   "outputs": [],
   "source": []
  }
 ],
 "metadata": {
  "kernelspec": {
   "display_name": "Python 3",
   "language": "python",
   "name": "python3"
  },
  "language_info": {
   "codemirror_mode": {
    "name": "ipython",
    "version": 3
   },
   "file_extension": ".py",
   "mimetype": "text/x-python",
   "name": "python",
   "nbconvert_exporter": "python",
   "pygments_lexer": "ipython3",
   "version": "3.7.4"
  }
 },
 "nbformat": 4,
 "nbformat_minor": 4
}
