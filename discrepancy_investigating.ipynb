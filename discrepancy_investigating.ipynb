{
 "cells": [
  {
   "cell_type": "code",
   "execution_count": 1,
   "metadata": {},
   "outputs": [],
   "source": [
    "import pandas as pd\n",
    "import numpy as np\n",
    "pd.set_option('display.max_columns', None)"
   ]
  },
  {
   "cell_type": "code",
   "execution_count": 2,
   "metadata": {},
   "outputs": [],
   "source": [
    "df = pd.DataFrame(pd.read_csv('iheart_projects - iheart_projects.csv'))\n",
    "revenue = pd.DataFrame(pd.read_csv('report1619705426780.csv'))\n",
    "revenue2 = pd.DataFrame(pd.read_csv('report1617632400435 - report1617632400435.csv'))"
   ]
  },
  {
   "cell_type": "code",
   "execution_count": 3,
   "metadata": {},
   "outputs": [],
   "source": [
    "revenue['Form Date'] = pd.to_datetime(revenue['Form Date'], errors='coerce').dt.strftime('%Y%m%d')\n",
    "revenue['Opportunity: Created Date'] = pd.to_datetime(revenue['Opportunity: Created Date'], errors='coerce').dt.strftime('%Y%m%d')\n",
    "revenue['Opportunity: Close Date'] = pd.to_datetime(revenue['Opportunity: Close Date'], errors='coerce').dt.strftime('%Y%m%d')\n",
    "# revenue = revenue.loc[revenue['Form Date'] != 'NaT']\n",
    "# revenue2 = revenue2.loc[revenue2['Form Date'] != 'NaT']\n",
    "revenue.dropna(subset=['Opportunity: Opportunity Name'],inplace=True)\n",
    "revenue2.dropna(subset=['Opportunity: Opportunity Name'],inplace=True)\n",
    "\n",
    "revenue2['Form Date'] = pd.to_datetime(revenue2['Form Date'], errors='coerce').dt.strftime('%Y%m%d')\n",
    "revenue2['Opportunity: Created Date'] = pd.to_datetime(revenue2['Opportunity: Created Date'], errors='coerce').dt.strftime('%Y%m%d')\n",
    "revenue2['Opportunity: Close Date'] = pd.to_datetime(revenue2['Opportunity: Close Date'], errors='coerce').dt.strftime('%Y%m%d')\n",
    "\n",
    "revenue.drop_duplicates(subset = ['Opportunity: Opportunity ID'],inplace=True)\n",
    "revenue2.drop_duplicates(subset = ['Opportunity: Opportunity ID'],inplace=True)"
   ]
  },
  {
   "cell_type": "code",
   "execution_count": 32,
   "metadata": {},
   "outputs": [
    {
     "name": "stdout",
     "output_type": "stream",
     "text": [
      "04/29 revenue: 28477932.51\n",
      "04/05 revenue: 24714729.689999998\n",
      "revenue difference: 3763202.820000004\n",
      "closed betweeen 4/5 and 4/29: 2215241.76\n",
      "sum of missing projects: 373622.0\n",
      "money to account for: 1628328.4400000041\n",
      "sum of gross amount changes: 80367.37999999999\n"
     ]
    },
    {
     "name": "stderr",
     "output_type": "stream",
     "text": [
      "/Users/arlisscoates/opt/anaconda3/lib/python3.7/site-packages/ipykernel_launcher.py:9: SettingWithCopyWarning: \n",
      "A value is trying to be set on a copy of a slice from a DataFrame.\n",
      "Try using .loc[row_indexer,col_indexer] = value instead\n",
      "\n",
      "See the caveats in the documentation: http://pandas.pydata.org/pandas-docs/stable/user_guide/indexing.html#returning-a-view-versus-a-copy\n",
      "  if __name__ == '__main__':\n"
     ]
    }
   ],
   "source": [
    "latest_rev = revenue.loc[(revenue['Form Created on Closed Opp'] == 0) & (revenue['Opportunity: Stage'] == 'Closed - Won')]['Opportunity: Gross Amount'].sum()\n",
    "old_rev = revenue2.loc[(revenue2['Form Created on Closed Opp'] == 0) & (revenue2['Opportunity: Stage'] == 'Closed - Won')]['Opportunity: Gross Amount'].sum()\n",
    "closed_projects_missing = revenue.loc[(revenue['Form Date'] >= '20210402') & (revenue['Form Date'] <= '20210405')\n",
    "            & (revenue['Form Created on Closed Opp'] == 0) & (revenue['Opportunity: Stage'] == 'Closed - Won')]\n",
    "merged = revenue.merge(revenue2, on='Adwire Project ID', how='outer')\n",
    "merged_filtered = merged[merged['Opportunity: Gross Amount_x'] != merged['Opportunity: Gross Amount_y']]\n",
    "merged_filtered = merged.loc[(merged['Form Created on Closed Opp_x'] == 0) & (merged['Opportunity: Stage_x'] == 'Closed - Won') \n",
    "                           & (merged['Opportunity: Gross Amount_x'] != merged['Opportunity: Gross Amount_y'])]\n",
    "merged_filtered['gross_difference'] = merged_filtered['Opportunity: Gross Amount_x'] - merged_filtered['Opportunity: Gross Amount_y']\n",
    "closed_after_april4 = revenue.loc[(revenue['Opportunity: Close Date'] >= '20210405') & (revenue['Opportunity: Close Date'] <= '20210429')\n",
    "           & (revenue['Form Created on Closed Opp'] == 0) & (revenue['Opportunity: Stage'] == 'Closed - Won')]['Opportunity: Gross Amount']\n",
    "\n",
    "\n",
    "print('04/29 revenue: ' + str(latest_rev))\n",
    "print('04/05 revenue: ' + str(old_rev))\n",
    "print('revenue difference: ' + str(latest_rev - old_rev))\n",
    "print('closed betweeen 4/5 and 4/29: ' + str(closed_after_april4.sum()))\n",
    "print('sum of missing projects: ' + str(closed_projects_missing['Opportunity: Gross Amount'].sum()))\n",
    "print('money to account for: ' + str((latest_rev - old_rev) - (closed_after_april4.sum() -  merged_filtered.gross_difference.sum())))\n",
    "print('sum of gross amount changes: ' + str(merged_filtered.gross_difference.sum()))"
   ]
  },
  {
   "cell_type": "code",
   "execution_count": 31,
   "metadata": {},
   "outputs": [],
   "source": [
    "closed_projects_missing.to_csv('missing_closed_won.csv')"
   ]
  }
 ],
 "metadata": {
  "kernelspec": {
   "display_name": "Python 3",
   "language": "python",
   "name": "python3"
  },
  "language_info": {
   "codemirror_mode": {
    "name": "ipython",
    "version": 3
   },
   "file_extension": ".py",
   "mimetype": "text/x-python",
   "name": "python",
   "nbconvert_exporter": "python",
   "pygments_lexer": "ipython3",
   "version": "3.7.4"
  }
 },
 "nbformat": 4,
 "nbformat_minor": 4
}
