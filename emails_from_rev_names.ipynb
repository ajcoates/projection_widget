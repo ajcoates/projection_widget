{
 "cells": [
  {
   "cell_type": "code",
   "execution_count": 51,
   "metadata": {},
   "outputs": [],
   "source": []
  },
  {
   "cell_type": "code",
   "execution_count": 80,
   "metadata": {},
   "outputs": [
    {
     "data": {
      "text/html": [
       "<div>\n",
       "<style scoped>\n",
       "    .dataframe tbody tr th:only-of-type {\n",
       "        vertical-align: middle;\n",
       "    }\n",
       "\n",
       "    .dataframe tbody tr th {\n",
       "        vertical-align: top;\n",
       "    }\n",
       "\n",
       "    .dataframe thead th {\n",
       "        text-align: right;\n",
       "    }\n",
       "</style>\n",
       "<table border=\"1\" class=\"dataframe\">\n",
       "  <thead>\n",
       "    <tr style=\"text-align: right;\">\n",
       "      <th></th>\n",
       "      <th>email</th>\n",
       "      <th>name</th>\n",
       "      <th>first</th>\n",
       "    </tr>\n",
       "  </thead>\n",
       "  <tbody>\n",
       "    <tr>\n",
       "      <td>0</td>\n",
       "      <td>SarahSteckler@iheartmedia.com</td>\n",
       "      <td>Sarah Steckler</td>\n",
       "      <td>Sarah</td>\n",
       "    </tr>\n",
       "    <tr>\n",
       "      <td>1</td>\n",
       "      <td>YeseniaTorres@iheartmedia.com</td>\n",
       "      <td>Yesenia Torres</td>\n",
       "      <td>Yesenia</td>\n",
       "    </tr>\n",
       "    <tr>\n",
       "      <td>2</td>\n",
       "      <td>JenniferOsborn@iheartmedia.com</td>\n",
       "      <td>Jennifer Osborn</td>\n",
       "      <td>Jennifer</td>\n",
       "    </tr>\n",
       "    <tr>\n",
       "      <td>3</td>\n",
       "      <td>MistiChilders@iheartmedia.com</td>\n",
       "      <td>Misti Childers</td>\n",
       "      <td>Misti</td>\n",
       "    </tr>\n",
       "    <tr>\n",
       "      <td>4</td>\n",
       "      <td>PaulTaylor@iheartmedia.com</td>\n",
       "      <td>Paul Taylor</td>\n",
       "      <td>Paul</td>\n",
       "    </tr>\n",
       "  </tbody>\n",
       "</table>\n",
       "</div>"
      ],
      "text/plain": [
       "                            email             name     first\n",
       "0   SarahSteckler@iheartmedia.com   Sarah Steckler     Sarah\n",
       "1   YeseniaTorres@iheartmedia.com   Yesenia Torres   Yesenia\n",
       "2  JenniferOsborn@iheartmedia.com  Jennifer Osborn  Jennifer\n",
       "3   MistiChilders@iheartmedia.com   Misti Childers     Misti\n",
       "4      PaulTaylor@iheartmedia.com      Paul Taylor      Paul"
      ]
     },
     "execution_count": 80,
     "metadata": {},
     "output_type": "execute_result"
    }
   ],
   "source": [
    "import pandas as pd\n",
    "import numpy as np\n",
    "\n",
    "df = pd.read_csv('Names for Arliss.csv')\n",
    "df1 = pd.read_csv('Names for Arliss.csv')\n",
    "df['AE Name'] = df['AE Name'].str.replace(' ','')\n",
    "df['email'] = df['AE Name'] + '@iheartmedia.com'\n",
    "df['email'].str.lower()\n",
    "df1 = df1.rename(columns = {'AE Name': 'name'})\n",
    "original = df1['name']\n",
    "df = df.join(original)\n",
    "new = df[\"name\"].str.split(\" \", n = 1, expand = True) \n",
    "df['first'] = new[0]\n",
    "df = df.drop('Unnamed: 1', 1)\n",
    "df = df.drop('AE Name', 1)\n",
    "\n",
    "df.head()"
   ]
  },
  {
   "cell_type": "code",
   "execution_count": 81,
   "metadata": {},
   "outputs": [],
   "source": [
    "df.to_csv('names_and_emails.csv')"
   ]
  },
  {
   "cell_type": "code",
   "execution_count": 62,
   "metadata": {},
   "outputs": [],
   "source": []
  }
 ],
 "metadata": {
  "kernelspec": {
   "display_name": "Python 3",
   "language": "python",
   "name": "python3"
  },
  "language_info": {
   "codemirror_mode": {
    "name": "ipython",
    "version": 3
   },
   "file_extension": ".py",
   "mimetype": "text/x-python",
   "name": "python",
   "nbconvert_exporter": "python",
   "pygments_lexer": "ipython3",
   "version": "3.7.4"
  }
 },
 "nbformat": 4,
 "nbformat_minor": 2
}
